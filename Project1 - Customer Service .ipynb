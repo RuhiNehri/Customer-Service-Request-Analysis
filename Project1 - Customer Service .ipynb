{
 "cells": [
  {
   "cell_type": "code",
   "execution_count": 1,
   "id": "f0bcac16-9c24-48a8-a014-3bee99f00a1e",
   "metadata": {},
   "outputs": [],
   "source": [
    "# Importing Dataset\n",
    "import numpy as np\n",
    "import pandas as pd\n",
    "import matplotlib.pyplot as plt\n",
    "%matplotlib inline\n",
    "import seaborn as sns"
   ]
  },
  {
   "cell_type": "code",
   "execution_count": 2,
   "id": "72a844df-33dd-46e2-9d4b-4b4ba0b3989d",
   "metadata": {},
   "outputs": [
    {
     "data": {
      "text/html": [
       "<div>\n",
       "<style scoped>\n",
       "    .dataframe tbody tr th:only-of-type {\n",
       "        vertical-align: middle;\n",
       "    }\n",
       "\n",
       "    .dataframe tbody tr th {\n",
       "        vertical-align: top;\n",
       "    }\n",
       "\n",
       "    .dataframe thead th {\n",
       "        text-align: right;\n",
       "    }\n",
       "</style>\n",
       "<table border=\"1\" class=\"dataframe\">\n",
       "  <thead>\n",
       "    <tr style=\"text-align: right;\">\n",
       "      <th></th>\n",
       "      <th>Unique Key</th>\n",
       "      <th>Created Date</th>\n",
       "      <th>Closed Date</th>\n",
       "      <th>Agency</th>\n",
       "      <th>Agency Name</th>\n",
       "      <th>Complaint Type</th>\n",
       "      <th>Descriptor</th>\n",
       "      <th>Location Type</th>\n",
       "      <th>Incident Zip</th>\n",
       "      <th>Incident Address</th>\n",
       "      <th>...</th>\n",
       "      <th>Bridge Highway Name</th>\n",
       "      <th>Bridge Highway Direction</th>\n",
       "      <th>Road Ramp</th>\n",
       "      <th>Bridge Highway Segment</th>\n",
       "      <th>Garage Lot Name</th>\n",
       "      <th>Ferry Direction</th>\n",
       "      <th>Ferry Terminal Name</th>\n",
       "      <th>Latitude</th>\n",
       "      <th>Longitude</th>\n",
       "      <th>Location</th>\n",
       "    </tr>\n",
       "  </thead>\n",
       "  <tbody>\n",
       "    <tr>\n",
       "      <th>0</th>\n",
       "      <td>32310363</td>\n",
       "      <td>12/31/2015 11:59:45 PM</td>\n",
       "      <td>01-01-2016 00:55</td>\n",
       "      <td>NYPD</td>\n",
       "      <td>New York City Police Department</td>\n",
       "      <td>Noise - Street/Sidewalk</td>\n",
       "      <td>Loud Music/Party</td>\n",
       "      <td>Street/Sidewalk</td>\n",
       "      <td>10034.0</td>\n",
       "      <td>71 VERMILYEA AVENUE</td>\n",
       "      <td>...</td>\n",
       "      <td>NaN</td>\n",
       "      <td>NaN</td>\n",
       "      <td>NaN</td>\n",
       "      <td>NaN</td>\n",
       "      <td>NaN</td>\n",
       "      <td>NaN</td>\n",
       "      <td>NaN</td>\n",
       "      <td>40.865682</td>\n",
       "      <td>-73.923501</td>\n",
       "      <td>(40.86568153633767, -73.92350095571744)</td>\n",
       "    </tr>\n",
       "    <tr>\n",
       "      <th>1</th>\n",
       "      <td>32309934</td>\n",
       "      <td>12/31/2015 11:59:44 PM</td>\n",
       "      <td>01-01-2016 01:26</td>\n",
       "      <td>NYPD</td>\n",
       "      <td>New York City Police Department</td>\n",
       "      <td>Blocked Driveway</td>\n",
       "      <td>No Access</td>\n",
       "      <td>Street/Sidewalk</td>\n",
       "      <td>11105.0</td>\n",
       "      <td>27-07 23 AVENUE</td>\n",
       "      <td>...</td>\n",
       "      <td>NaN</td>\n",
       "      <td>NaN</td>\n",
       "      <td>NaN</td>\n",
       "      <td>NaN</td>\n",
       "      <td>NaN</td>\n",
       "      <td>NaN</td>\n",
       "      <td>NaN</td>\n",
       "      <td>40.775945</td>\n",
       "      <td>-73.915094</td>\n",
       "      <td>(40.775945312321085, -73.91509393898605)</td>\n",
       "    </tr>\n",
       "    <tr>\n",
       "      <th>2</th>\n",
       "      <td>32309159</td>\n",
       "      <td>12/31/2015 11:59:29 PM</td>\n",
       "      <td>01-01-2016 04:51</td>\n",
       "      <td>NYPD</td>\n",
       "      <td>New York City Police Department</td>\n",
       "      <td>Blocked Driveway</td>\n",
       "      <td>No Access</td>\n",
       "      <td>Street/Sidewalk</td>\n",
       "      <td>10458.0</td>\n",
       "      <td>2897 VALENTINE AVENUE</td>\n",
       "      <td>...</td>\n",
       "      <td>NaN</td>\n",
       "      <td>NaN</td>\n",
       "      <td>NaN</td>\n",
       "      <td>NaN</td>\n",
       "      <td>NaN</td>\n",
       "      <td>NaN</td>\n",
       "      <td>NaN</td>\n",
       "      <td>40.870325</td>\n",
       "      <td>-73.888525</td>\n",
       "      <td>(40.870324522111424, -73.88852464418646)</td>\n",
       "    </tr>\n",
       "    <tr>\n",
       "      <th>3</th>\n",
       "      <td>32305098</td>\n",
       "      <td>12/31/2015 11:57:46 PM</td>\n",
       "      <td>01-01-2016 07:43</td>\n",
       "      <td>NYPD</td>\n",
       "      <td>New York City Police Department</td>\n",
       "      <td>Illegal Parking</td>\n",
       "      <td>Commercial Overnight Parking</td>\n",
       "      <td>Street/Sidewalk</td>\n",
       "      <td>10461.0</td>\n",
       "      <td>2940 BAISLEY AVENUE</td>\n",
       "      <td>...</td>\n",
       "      <td>NaN</td>\n",
       "      <td>NaN</td>\n",
       "      <td>NaN</td>\n",
       "      <td>NaN</td>\n",
       "      <td>NaN</td>\n",
       "      <td>NaN</td>\n",
       "      <td>NaN</td>\n",
       "      <td>40.835994</td>\n",
       "      <td>-73.828379</td>\n",
       "      <td>(40.83599404683083, -73.82837939584206)</td>\n",
       "    </tr>\n",
       "    <tr>\n",
       "      <th>4</th>\n",
       "      <td>32306529</td>\n",
       "      <td>12/31/2015 11:56:58 PM</td>\n",
       "      <td>01-01-2016 03:24</td>\n",
       "      <td>NYPD</td>\n",
       "      <td>New York City Police Department</td>\n",
       "      <td>Illegal Parking</td>\n",
       "      <td>Blocked Sidewalk</td>\n",
       "      <td>Street/Sidewalk</td>\n",
       "      <td>11373.0</td>\n",
       "      <td>87-14 57 ROAD</td>\n",
       "      <td>...</td>\n",
       "      <td>NaN</td>\n",
       "      <td>NaN</td>\n",
       "      <td>NaN</td>\n",
       "      <td>NaN</td>\n",
       "      <td>NaN</td>\n",
       "      <td>NaN</td>\n",
       "      <td>NaN</td>\n",
       "      <td>40.733060</td>\n",
       "      <td>-73.874170</td>\n",
       "      <td>(40.733059618956815, -73.87416975810375)</td>\n",
       "    </tr>\n",
       "  </tbody>\n",
       "</table>\n",
       "<p>5 rows × 53 columns</p>\n",
       "</div>"
      ],
      "text/plain": [
       "   Unique Key            Created Date       Closed Date Agency  \\\n",
       "0    32310363  12/31/2015 11:59:45 PM  01-01-2016 00:55   NYPD   \n",
       "1    32309934  12/31/2015 11:59:44 PM  01-01-2016 01:26   NYPD   \n",
       "2    32309159  12/31/2015 11:59:29 PM  01-01-2016 04:51   NYPD   \n",
       "3    32305098  12/31/2015 11:57:46 PM  01-01-2016 07:43   NYPD   \n",
       "4    32306529  12/31/2015 11:56:58 PM  01-01-2016 03:24   NYPD   \n",
       "\n",
       "                       Agency Name           Complaint Type  \\\n",
       "0  New York City Police Department  Noise - Street/Sidewalk   \n",
       "1  New York City Police Department         Blocked Driveway   \n",
       "2  New York City Police Department         Blocked Driveway   \n",
       "3  New York City Police Department          Illegal Parking   \n",
       "4  New York City Police Department          Illegal Parking   \n",
       "\n",
       "                     Descriptor    Location Type  Incident Zip  \\\n",
       "0              Loud Music/Party  Street/Sidewalk       10034.0   \n",
       "1                     No Access  Street/Sidewalk       11105.0   \n",
       "2                     No Access  Street/Sidewalk       10458.0   \n",
       "3  Commercial Overnight Parking  Street/Sidewalk       10461.0   \n",
       "4              Blocked Sidewalk  Street/Sidewalk       11373.0   \n",
       "\n",
       "        Incident Address  ... Bridge Highway Name Bridge Highway Direction  \\\n",
       "0    71 VERMILYEA AVENUE  ...                 NaN                      NaN   \n",
       "1        27-07 23 AVENUE  ...                 NaN                      NaN   \n",
       "2  2897 VALENTINE AVENUE  ...                 NaN                      NaN   \n",
       "3    2940 BAISLEY AVENUE  ...                 NaN                      NaN   \n",
       "4          87-14 57 ROAD  ...                 NaN                      NaN   \n",
       "\n",
       "  Road Ramp Bridge Highway Segment Garage Lot Name Ferry Direction  \\\n",
       "0       NaN                    NaN             NaN             NaN   \n",
       "1       NaN                    NaN             NaN             NaN   \n",
       "2       NaN                    NaN             NaN             NaN   \n",
       "3       NaN                    NaN             NaN             NaN   \n",
       "4       NaN                    NaN             NaN             NaN   \n",
       "\n",
       "  Ferry Terminal Name   Latitude  Longitude  \\\n",
       "0                 NaN  40.865682 -73.923501   \n",
       "1                 NaN  40.775945 -73.915094   \n",
       "2                 NaN  40.870325 -73.888525   \n",
       "3                 NaN  40.835994 -73.828379   \n",
       "4                 NaN  40.733060 -73.874170   \n",
       "\n",
       "                                   Location  \n",
       "0   (40.86568153633767, -73.92350095571744)  \n",
       "1  (40.775945312321085, -73.91509393898605)  \n",
       "2  (40.870324522111424, -73.88852464418646)  \n",
       "3   (40.83599404683083, -73.82837939584206)  \n",
       "4  (40.733059618956815, -73.87416975810375)  \n",
       "\n",
       "[5 rows x 53 columns]"
      ]
     },
     "execution_count": 2,
     "metadata": {},
     "output_type": "execute_result"
    }
   ],
   "source": [
    "# Read the dataset\n",
    "df1 = pd.read_csv(r\"311_Service_Requests_from_2010_to_Present.csv\",low_memory = False)\n",
    "df1.head()"
   ]
  },
  {
   "cell_type": "code",
   "execution_count": 3,
   "id": "725bea4a-cc85-480e-b3ce-8caa4dc787a9",
   "metadata": {},
   "outputs": [
    {
     "name": "stdout",
     "output_type": "stream",
     "text": [
      "<class 'pandas.core.frame.DataFrame'>\n",
      "RangeIndex: 300698 entries, 0 to 300697\n",
      "Data columns (total 53 columns):\n",
      " #   Column                          Non-Null Count   Dtype  \n",
      "---  ------                          --------------   -----  \n",
      " 0   Unique Key                      300698 non-null  int64  \n",
      " 1   Created Date                    300698 non-null  object \n",
      " 2   Closed Date                     298534 non-null  object \n",
      " 3   Agency                          300698 non-null  object \n",
      " 4   Agency Name                     300698 non-null  object \n",
      " 5   Complaint Type                  300698 non-null  object \n",
      " 6   Descriptor                      294784 non-null  object \n",
      " 7   Location Type                   300567 non-null  object \n",
      " 8   Incident Zip                    298083 non-null  float64\n",
      " 9   Incident Address                256288 non-null  object \n",
      " 10  Street Name                     256288 non-null  object \n",
      " 11  Cross Street 1                  251419 non-null  object \n",
      " 12  Cross Street 2                  250919 non-null  object \n",
      " 13  Intersection Street 1           43858 non-null   object \n",
      " 14  Intersection Street 2           43362 non-null   object \n",
      " 15  Address Type                    297883 non-null  object \n",
      " 16  City                            298084 non-null  object \n",
      " 17  Landmark                        349 non-null     object \n",
      " 18  Facility Type                   298527 non-null  object \n",
      " 19  Status                          300698 non-null  object \n",
      " 20  Due Date                        300695 non-null  object \n",
      " 21  Resolution Description          300698 non-null  object \n",
      " 22  Resolution Action Updated Date  298511 non-null  object \n",
      " 23  Community Board                 300698 non-null  object \n",
      " 24  Borough                         300698 non-null  object \n",
      " 25  X Coordinate (State Plane)      297158 non-null  float64\n",
      " 26  Y Coordinate (State Plane)      297158 non-null  float64\n",
      " 27  Park Facility Name              300698 non-null  object \n",
      " 28  Park Borough                    300698 non-null  object \n",
      " 29  School Name                     300698 non-null  object \n",
      " 30  School Number                   300698 non-null  object \n",
      " 31  School Region                   300697 non-null  object \n",
      " 32  School Code                     300697 non-null  object \n",
      " 33  School Phone Number             300698 non-null  object \n",
      " 34  School Address                  300698 non-null  object \n",
      " 35  School City                     300698 non-null  object \n",
      " 36  School State                    300698 non-null  object \n",
      " 37  School Zip                      300697 non-null  object \n",
      " 38  School Not Found                300698 non-null  object \n",
      " 39  School or Citywide Complaint    0 non-null       float64\n",
      " 40  Vehicle Type                    0 non-null       float64\n",
      " 41  Taxi Company Borough            0 non-null       float64\n",
      " 42  Taxi Pick Up Location           0 non-null       float64\n",
      " 43  Bridge Highway Name             243 non-null     object \n",
      " 44  Bridge Highway Direction        243 non-null     object \n",
      " 45  Road Ramp                       213 non-null     object \n",
      " 46  Bridge Highway Segment          213 non-null     object \n",
      " 47  Garage Lot Name                 0 non-null       float64\n",
      " 48  Ferry Direction                 1 non-null       object \n",
      " 49  Ferry Terminal Name             2 non-null       object \n",
      " 50  Latitude                        297158 non-null  float64\n",
      " 51  Longitude                       297158 non-null  float64\n",
      " 52  Location                        297158 non-null  object \n",
      "dtypes: float64(10), int64(1), object(42)\n",
      "memory usage: 121.6+ MB\n"
     ]
    }
   ],
   "source": [
    "df1.info()"
   ]
  },
  {
   "cell_type": "code",
   "execution_count": 4,
   "id": "b569ac2c-6581-4834-821b-75d9c5b9914b",
   "metadata": {},
   "outputs": [],
   "source": [
    "# Removing columns which are not relevant\n",
    "remove_columns = ['Agency Name','Street Name','Cross Street 1','Cross Street 2','Intersection Street 1',\n",
    "'Intersection Street 2','Address Type','Landmark','Park Facility Name','Park Borough','School Name',\n",
    "'School Number','School Region','School Code','School Phone Number','School Address','School City',\n",
    "'School State','School Zip','School Not Found','School or Citywide Complaint','Vehicle Type',\n",
    "'Taxi Company Borough','Taxi Pick Up Location','Bridge Highway Name','Bridge Highway Direction',\n",
    "'Road Ramp','Bridge Highway Segment','Garage Lot Name','Ferry Direction','Ferry Terminal Name','X Coordinate (State Plane)','Y Coordinate (State Plane)',\n",
    "'Location']\n",
    "\n",
    "\n",
    "df1.drop(remove_columns, inplace=True, axis=1)\n"
   ]
  },
  {
   "cell_type": "code",
   "execution_count": 5,
   "id": "2123caa8-3185-488a-89f5-8f02ddbc7c19",
   "metadata": {},
   "outputs": [],
   "source": [
    "# NOw the file size will reduce from 121 MB"
   ]
  },
  {
   "cell_type": "code",
   "execution_count": 6,
   "id": "f1592858-4f2e-4d9c-b0a9-1ace847b26ae",
   "metadata": {},
   "outputs": [
    {
     "name": "stdout",
     "output_type": "stream",
     "text": [
      "<class 'pandas.core.frame.DataFrame'>\n",
      "RangeIndex: 300698 entries, 0 to 300697\n",
      "Data columns (total 19 columns):\n",
      " #   Column                          Non-Null Count   Dtype  \n",
      "---  ------                          --------------   -----  \n",
      " 0   Unique Key                      300698 non-null  int64  \n",
      " 1   Created Date                    300698 non-null  object \n",
      " 2   Closed Date                     298534 non-null  object \n",
      " 3   Agency                          300698 non-null  object \n",
      " 4   Complaint Type                  300698 non-null  object \n",
      " 5   Descriptor                      294784 non-null  object \n",
      " 6   Location Type                   300567 non-null  object \n",
      " 7   Incident Zip                    298083 non-null  float64\n",
      " 8   Incident Address                256288 non-null  object \n",
      " 9   City                            298084 non-null  object \n",
      " 10  Facility Type                   298527 non-null  object \n",
      " 11  Status                          300698 non-null  object \n",
      " 12  Due Date                        300695 non-null  object \n",
      " 13  Resolution Description          300698 non-null  object \n",
      " 14  Resolution Action Updated Date  298511 non-null  object \n",
      " 15  Community Board                 300698 non-null  object \n",
      " 16  Borough                         300698 non-null  object \n",
      " 17  Latitude                        297158 non-null  float64\n",
      " 18  Longitude                       297158 non-null  float64\n",
      "dtypes: float64(3), int64(1), object(15)\n",
      "memory usage: 43.6+ MB\n"
     ]
    }
   ],
   "source": [
    "df1.info()"
   ]
  },
  {
   "cell_type": "code",
   "execution_count": 7,
   "id": "429d560f-a437-44a2-9f1a-a6bde3188a69",
   "metadata": {},
   "outputs": [],
   "source": [
    "df1 = df1[(df1['Latitude'].notnull())& (df1['Longitude'].notnull()) & (df1['Descriptor'].notnull())]\n"
   ]
  },
  {
   "cell_type": "code",
   "execution_count": 8,
   "id": "609c1672-2658-4cfd-a5e0-7124664a44dc",
   "metadata": {},
   "outputs": [
    {
     "data": {
      "text/html": [
       "<div>\n",
       "<style scoped>\n",
       "    .dataframe tbody tr th:only-of-type {\n",
       "        vertical-align: middle;\n",
       "    }\n",
       "\n",
       "    .dataframe tbody tr th {\n",
       "        vertical-align: top;\n",
       "    }\n",
       "\n",
       "    .dataframe thead th {\n",
       "        text-align: right;\n",
       "    }\n",
       "</style>\n",
       "<table border=\"1\" class=\"dataframe\">\n",
       "  <thead>\n",
       "    <tr style=\"text-align: right;\">\n",
       "      <th></th>\n",
       "      <th>Unique Key</th>\n",
       "      <th>Created Date</th>\n",
       "      <th>Closed Date</th>\n",
       "      <th>Agency</th>\n",
       "      <th>Complaint Type</th>\n",
       "      <th>Descriptor</th>\n",
       "      <th>Location Type</th>\n",
       "      <th>Incident Zip</th>\n",
       "      <th>Incident Address</th>\n",
       "      <th>City</th>\n",
       "      <th>Facility Type</th>\n",
       "      <th>Status</th>\n",
       "      <th>Due Date</th>\n",
       "      <th>Resolution Description</th>\n",
       "      <th>Resolution Action Updated Date</th>\n",
       "      <th>Community Board</th>\n",
       "      <th>Borough</th>\n",
       "      <th>Latitude</th>\n",
       "      <th>Longitude</th>\n",
       "    </tr>\n",
       "  </thead>\n",
       "  <tbody>\n",
       "    <tr>\n",
       "      <th>0</th>\n",
       "      <td>32310363</td>\n",
       "      <td>12/31/2015 11:59:45 PM</td>\n",
       "      <td>01-01-2016 00:55</td>\n",
       "      <td>NYPD</td>\n",
       "      <td>Noise - Street/Sidewalk</td>\n",
       "      <td>Loud Music/Party</td>\n",
       "      <td>Street/Sidewalk</td>\n",
       "      <td>10034.0</td>\n",
       "      <td>71 VERMILYEA AVENUE</td>\n",
       "      <td>NEW YORK</td>\n",
       "      <td>Precinct</td>\n",
       "      <td>Closed</td>\n",
       "      <td>01-01-2016 07:59</td>\n",
       "      <td>The Police Department responded and upon arriv...</td>\n",
       "      <td>01-01-2016 00:55</td>\n",
       "      <td>12 MANHATTAN</td>\n",
       "      <td>MANHATTAN</td>\n",
       "      <td>40.865682</td>\n",
       "      <td>-73.923501</td>\n",
       "    </tr>\n",
       "    <tr>\n",
       "      <th>1</th>\n",
       "      <td>32309934</td>\n",
       "      <td>12/31/2015 11:59:44 PM</td>\n",
       "      <td>01-01-2016 01:26</td>\n",
       "      <td>NYPD</td>\n",
       "      <td>Blocked Driveway</td>\n",
       "      <td>No Access</td>\n",
       "      <td>Street/Sidewalk</td>\n",
       "      <td>11105.0</td>\n",
       "      <td>27-07 23 AVENUE</td>\n",
       "      <td>ASTORIA</td>\n",
       "      <td>Precinct</td>\n",
       "      <td>Closed</td>\n",
       "      <td>01-01-2016 07:59</td>\n",
       "      <td>The Police Department responded to the complai...</td>\n",
       "      <td>01-01-2016 01:26</td>\n",
       "      <td>01 QUEENS</td>\n",
       "      <td>QUEENS</td>\n",
       "      <td>40.775945</td>\n",
       "      <td>-73.915094</td>\n",
       "    </tr>\n",
       "    <tr>\n",
       "      <th>2</th>\n",
       "      <td>32309159</td>\n",
       "      <td>12/31/2015 11:59:29 PM</td>\n",
       "      <td>01-01-2016 04:51</td>\n",
       "      <td>NYPD</td>\n",
       "      <td>Blocked Driveway</td>\n",
       "      <td>No Access</td>\n",
       "      <td>Street/Sidewalk</td>\n",
       "      <td>10458.0</td>\n",
       "      <td>2897 VALENTINE AVENUE</td>\n",
       "      <td>BRONX</td>\n",
       "      <td>Precinct</td>\n",
       "      <td>Closed</td>\n",
       "      <td>01-01-2016 07:59</td>\n",
       "      <td>The Police Department responded and upon arriv...</td>\n",
       "      <td>01-01-2016 04:51</td>\n",
       "      <td>07 BRONX</td>\n",
       "      <td>BRONX</td>\n",
       "      <td>40.870325</td>\n",
       "      <td>-73.888525</td>\n",
       "    </tr>\n",
       "  </tbody>\n",
       "</table>\n",
       "</div>"
      ],
      "text/plain": [
       "   Unique Key            Created Date       Closed Date Agency  \\\n",
       "0    32310363  12/31/2015 11:59:45 PM  01-01-2016 00:55   NYPD   \n",
       "1    32309934  12/31/2015 11:59:44 PM  01-01-2016 01:26   NYPD   \n",
       "2    32309159  12/31/2015 11:59:29 PM  01-01-2016 04:51   NYPD   \n",
       "\n",
       "            Complaint Type        Descriptor    Location Type  Incident Zip  \\\n",
       "0  Noise - Street/Sidewalk  Loud Music/Party  Street/Sidewalk       10034.0   \n",
       "1         Blocked Driveway         No Access  Street/Sidewalk       11105.0   \n",
       "2         Blocked Driveway         No Access  Street/Sidewalk       10458.0   \n",
       "\n",
       "        Incident Address      City Facility Type  Status          Due Date  \\\n",
       "0    71 VERMILYEA AVENUE  NEW YORK      Precinct  Closed  01-01-2016 07:59   \n",
       "1        27-07 23 AVENUE   ASTORIA      Precinct  Closed  01-01-2016 07:59   \n",
       "2  2897 VALENTINE AVENUE     BRONX      Precinct  Closed  01-01-2016 07:59   \n",
       "\n",
       "                              Resolution Description  \\\n",
       "0  The Police Department responded and upon arriv...   \n",
       "1  The Police Department responded to the complai...   \n",
       "2  The Police Department responded and upon arriv...   \n",
       "\n",
       "  Resolution Action Updated Date Community Board    Borough   Latitude  \\\n",
       "0               01-01-2016 00:55    12 MANHATTAN  MANHATTAN  40.865682   \n",
       "1               01-01-2016 01:26       01 QUEENS     QUEENS  40.775945   \n",
       "2               01-01-2016 04:51        07 BRONX      BRONX  40.870325   \n",
       "\n",
       "   Longitude  \n",
       "0 -73.923501  \n",
       "1 -73.915094  \n",
       "2 -73.888525  "
      ]
     },
     "execution_count": 8,
     "metadata": {},
     "output_type": "execute_result"
    }
   ],
   "source": [
    "df1.head(3)"
   ]
  },
  {
   "cell_type": "code",
   "execution_count": 9,
   "id": "5435f4ed-4b24-43f2-b064-d3e02ee23b20",
   "metadata": {},
   "outputs": [
    {
     "data": {
      "text/plain": [
       "Unique Key                        291317\n",
       "Created Date                      252153\n",
       "Closed Date                       232128\n",
       "Agency                                 1\n",
       "Complaint Type                        15\n",
       "Descriptor                            41\n",
       "Location Type                         14\n",
       "Incident Zip                         200\n",
       "Incident Address                  104602\n",
       "City                                  53\n",
       "Facility Type                          1\n",
       "Status                                 4\n",
       "Due Date                          252500\n",
       "Resolution Description                14\n",
       "Resolution Action Updated Date    232868\n",
       "Community Board                       74\n",
       "Borough                                5\n",
       "Latitude                          123070\n",
       "Longitude                         123169\n",
       "dtype: int64"
      ]
     },
     "execution_count": 9,
     "metadata": {},
     "output_type": "execute_result"
    }
   ],
   "source": [
    "df1.nunique()"
   ]
  },
  {
   "cell_type": "markdown",
   "id": "e2730376-53e1-4ab8-a38e-a99a51791fe2",
   "metadata": {},
   "source": [
    "#### 2. Read or convert the columns ‘Created Date’ and Closed Date’ to datetime datatype and create a new column ‘Request_Closing_Time’ as the time elapsed between request creation and request closing. \n"
   ]
  },
  {
   "cell_type": "code",
   "execution_count": 13,
   "id": "8b928ae4-df8e-4f9a-ab9b-e37d267d77d1",
   "metadata": {},
   "outputs": [],
   "source": [
    "df1['Created Date'] = pd.to_datetime(df1['Created Date'])\n",
    "df1['Closed Date'] = pd.to_datetime(df1['Closed Date'])\n",
    "\n",
    "\n",
    "# all the data except date/time column s need to be converted to categorical data as the columns are different in size\n",
    "exclude_columns = ['Created Date','Closed Date']\n",
    "for col in df1.columns:\n",
    "    if df1[col].nunique() < 300 and col not in exclude_columns:\n",
    "        df1[col] = df1[col].astype('category')\n",
    "        \n",
    "        \n",
    "df1.dropna(subset=['Created Date','Closed Date','City'], inplace=True)\n",
    "df1['Request Closing Time']= df1['Closed Date'] - df1['Created Date']\n"
   ]
  },
  {
   "cell_type": "code",
   "execution_count": 14,
   "id": "52d26e4f-5c81-4182-b057-5ae950699dda",
   "metadata": {},
   "outputs": [
    {
     "data": {
      "text/html": [
       "<div>\n",
       "<style scoped>\n",
       "    .dataframe tbody tr th:only-of-type {\n",
       "        vertical-align: middle;\n",
       "    }\n",
       "\n",
       "    .dataframe tbody tr th {\n",
       "        vertical-align: top;\n",
       "    }\n",
       "\n",
       "    .dataframe thead th {\n",
       "        text-align: right;\n",
       "    }\n",
       "</style>\n",
       "<table border=\"1\" class=\"dataframe\">\n",
       "  <thead>\n",
       "    <tr style=\"text-align: right;\">\n",
       "      <th></th>\n",
       "      <th>Unique Key</th>\n",
       "      <th>Created Date</th>\n",
       "      <th>Closed Date</th>\n",
       "      <th>Agency</th>\n",
       "      <th>Complaint Type</th>\n",
       "      <th>Descriptor</th>\n",
       "      <th>Location Type</th>\n",
       "      <th>Incident Zip</th>\n",
       "      <th>Incident Address</th>\n",
       "      <th>City</th>\n",
       "      <th>Facility Type</th>\n",
       "      <th>Status</th>\n",
       "      <th>Due Date</th>\n",
       "      <th>Resolution Description</th>\n",
       "      <th>Resolution Action Updated Date</th>\n",
       "      <th>Community Board</th>\n",
       "      <th>Borough</th>\n",
       "      <th>Latitude</th>\n",
       "      <th>Longitude</th>\n",
       "      <th>Request Closing Time</th>\n",
       "    </tr>\n",
       "  </thead>\n",
       "  <tbody>\n",
       "    <tr>\n",
       "      <th>0</th>\n",
       "      <td>32310363</td>\n",
       "      <td>2015-12-31 23:59:45</td>\n",
       "      <td>2016-01-01 00:55:00</td>\n",
       "      <td>NYPD</td>\n",
       "      <td>Noise - Street/Sidewalk</td>\n",
       "      <td>Loud Music/Party</td>\n",
       "      <td>Street/Sidewalk</td>\n",
       "      <td>10034.0</td>\n",
       "      <td>71 VERMILYEA AVENUE</td>\n",
       "      <td>NEW YORK</td>\n",
       "      <td>Precinct</td>\n",
       "      <td>Closed</td>\n",
       "      <td>01-01-2016 07:59</td>\n",
       "      <td>The Police Department responded and upon arriv...</td>\n",
       "      <td>01-01-2016 00:55</td>\n",
       "      <td>12 MANHATTAN</td>\n",
       "      <td>MANHATTAN</td>\n",
       "      <td>40.865682</td>\n",
       "      <td>-73.923501</td>\n",
       "      <td>0 days 00:55:15</td>\n",
       "    </tr>\n",
       "    <tr>\n",
       "      <th>1</th>\n",
       "      <td>32309934</td>\n",
       "      <td>2015-12-31 23:59:44</td>\n",
       "      <td>2016-01-01 01:26:00</td>\n",
       "      <td>NYPD</td>\n",
       "      <td>Blocked Driveway</td>\n",
       "      <td>No Access</td>\n",
       "      <td>Street/Sidewalk</td>\n",
       "      <td>11105.0</td>\n",
       "      <td>27-07 23 AVENUE</td>\n",
       "      <td>ASTORIA</td>\n",
       "      <td>Precinct</td>\n",
       "      <td>Closed</td>\n",
       "      <td>01-01-2016 07:59</td>\n",
       "      <td>The Police Department responded to the complai...</td>\n",
       "      <td>01-01-2016 01:26</td>\n",
       "      <td>01 QUEENS</td>\n",
       "      <td>QUEENS</td>\n",
       "      <td>40.775945</td>\n",
       "      <td>-73.915094</td>\n",
       "      <td>0 days 01:26:16</td>\n",
       "    </tr>\n",
       "    <tr>\n",
       "      <th>2</th>\n",
       "      <td>32309159</td>\n",
       "      <td>2015-12-31 23:59:29</td>\n",
       "      <td>2016-01-01 04:51:00</td>\n",
       "      <td>NYPD</td>\n",
       "      <td>Blocked Driveway</td>\n",
       "      <td>No Access</td>\n",
       "      <td>Street/Sidewalk</td>\n",
       "      <td>10458.0</td>\n",
       "      <td>2897 VALENTINE AVENUE</td>\n",
       "      <td>BRONX</td>\n",
       "      <td>Precinct</td>\n",
       "      <td>Closed</td>\n",
       "      <td>01-01-2016 07:59</td>\n",
       "      <td>The Police Department responded and upon arriv...</td>\n",
       "      <td>01-01-2016 04:51</td>\n",
       "      <td>07 BRONX</td>\n",
       "      <td>BRONX</td>\n",
       "      <td>40.870325</td>\n",
       "      <td>-73.888525</td>\n",
       "      <td>0 days 04:51:31</td>\n",
       "    </tr>\n",
       "  </tbody>\n",
       "</table>\n",
       "</div>"
      ],
      "text/plain": [
       "   Unique Key        Created Date         Closed Date Agency  \\\n",
       "0    32310363 2015-12-31 23:59:45 2016-01-01 00:55:00   NYPD   \n",
       "1    32309934 2015-12-31 23:59:44 2016-01-01 01:26:00   NYPD   \n",
       "2    32309159 2015-12-31 23:59:29 2016-01-01 04:51:00   NYPD   \n",
       "\n",
       "            Complaint Type        Descriptor    Location Type Incident Zip  \\\n",
       "0  Noise - Street/Sidewalk  Loud Music/Party  Street/Sidewalk      10034.0   \n",
       "1         Blocked Driveway         No Access  Street/Sidewalk      11105.0   \n",
       "2         Blocked Driveway         No Access  Street/Sidewalk      10458.0   \n",
       "\n",
       "        Incident Address      City Facility Type  Status          Due Date  \\\n",
       "0    71 VERMILYEA AVENUE  NEW YORK      Precinct  Closed  01-01-2016 07:59   \n",
       "1        27-07 23 AVENUE   ASTORIA      Precinct  Closed  01-01-2016 07:59   \n",
       "2  2897 VALENTINE AVENUE     BRONX      Precinct  Closed  01-01-2016 07:59   \n",
       "\n",
       "                              Resolution Description  \\\n",
       "0  The Police Department responded and upon arriv...   \n",
       "1  The Police Department responded to the complai...   \n",
       "2  The Police Department responded and upon arriv...   \n",
       "\n",
       "  Resolution Action Updated Date Community Board    Borough   Latitude  \\\n",
       "0               01-01-2016 00:55    12 MANHATTAN  MANHATTAN  40.865682   \n",
       "1               01-01-2016 01:26       01 QUEENS     QUEENS  40.775945   \n",
       "2               01-01-2016 04:51        07 BRONX      BRONX  40.870325   \n",
       "\n",
       "   Longitude Request Closing Time  \n",
       "0 -73.923501      0 days 00:55:15  \n",
       "1 -73.915094      0 days 01:26:16  \n",
       "2 -73.888525      0 days 04:51:31  "
      ]
     },
     "execution_count": 14,
     "metadata": {},
     "output_type": "execute_result"
    }
   ],
   "source": [
    "df1.head(3)"
   ]
  },
  {
   "cell_type": "code",
   "execution_count": 15,
   "id": "2584366e-820a-4492-a087-1e07d8777f48",
   "metadata": {},
   "outputs": [
    {
     "name": "stdout",
     "output_type": "stream",
     "text": [
      "<class 'pandas.core.frame.DataFrame'>\n",
      "Int64Index: 291221 entries, 0 to 300697\n",
      "Data columns (total 20 columns):\n",
      " #   Column                          Non-Null Count   Dtype          \n",
      "---  ------                          --------------   -----          \n",
      " 0   Unique Key                      291221 non-null  int64          \n",
      " 1   Created Date                    291221 non-null  datetime64[ns] \n",
      " 2   Closed Date                     291221 non-null  datetime64[ns] \n",
      " 3   Agency                          291221 non-null  category       \n",
      " 4   Complaint Type                  291221 non-null  category       \n",
      " 5   Descriptor                      291221 non-null  category       \n",
      " 6   Location Type                   291109 non-null  category       \n",
      " 7   Incident Zip                    291219 non-null  category       \n",
      " 8   Incident Address                248946 non-null  object         \n",
      " 9   City                            291221 non-null  category       \n",
      " 10  Facility Type                   291216 non-null  category       \n",
      " 11  Status                          291221 non-null  category       \n",
      " 12  Due Date                        291220 non-null  object         \n",
      " 13  Resolution Description          291221 non-null  category       \n",
      " 14  Resolution Action Updated Date  291184 non-null  object         \n",
      " 15  Community Board                 291221 non-null  category       \n",
      " 16  Borough                         291221 non-null  category       \n",
      " 17  Latitude                        291221 non-null  float64        \n",
      " 18  Longitude                       291221 non-null  float64        \n",
      " 19  Request Closing Time            291221 non-null  timedelta64[ns]\n",
      "dtypes: category(11), datetime64[ns](2), float64(2), int64(1), object(3), timedelta64[ns](1)\n",
      "memory usage: 25.6+ MB\n"
     ]
    }
   ],
   "source": [
    "df1.info()"
   ]
  },
  {
   "cell_type": "markdown",
   "id": "100be445-0916-453f-8a5c-150f95d86160",
   "metadata": {},
   "source": [
    "#### 3.Major insights/patterns that you can offer in a visual format (Data Visualization)"
   ]
  },
  {
   "cell_type": "code",
   "execution_count": 16,
   "id": "bb5508fb-7fee-47d8-ade9-0641cc75207e",
   "metadata": {},
   "outputs": [
    {
     "data": {
      "text/plain": [
       "Blocked Driveway            76713\n",
       "Illegal Parking             74056\n",
       "Noise - Street/Sidewalk     47756\n",
       "Noise - Commercial          35150\n",
       "Derelict Vehicle            17514\n",
       "Noise - Vehicle             16871\n",
       "Animal Abuse                 7747\n",
       "Traffic                      4472\n",
       "Noise - Park                 3928\n",
       "Vending                      3775\n",
       "Drinking                     1271\n",
       "Noise - House of Worship      922\n",
       "Posting Advertisement         648\n",
       "Disorderly Youth              285\n",
       "Graffiti                      113\n",
       "Name: Complaint Type, dtype: int64"
      ]
     },
     "execution_count": 16,
     "metadata": {},
     "output_type": "execute_result"
    }
   ],
   "source": [
    "# Complaint type data analysis\n",
    "df1['Complaint Type'].value_counts()"
   ]
  },
  {
   "cell_type": "code",
   "execution_count": 17,
   "id": "be34d330-fb08-4786-8b09-e4a595141a39",
   "metadata": {},
   "outputs": [
    {
     "data": {
      "text/plain": [
       "<AxesSubplot:>"
      ]
     },
     "execution_count": 17,
     "metadata": {},
     "output_type": "execute_result"
    },
    {
     "data": {
      "image/png": "[encoded data removed]",
      "text/plain": [
       "<Figure size 432x288 with 1 Axes>"
      ]
     },
     "metadata": {
      "needs_background": "light"
     },
     "output_type": "display_data"
    }
   ],
   "source": [
    "df1['Complaint Type'].value_counts().plot(kind = 'barh')\n"
   ]
  },
  {
   "cell_type": "raw",
   "id": "8947fd51-2603-4cee-85cf-5c7a87c94556",
   "metadata": {},
   "source": [
    "---- the above analysis shows the highest Complaint Type received is Blocked Driveway"
   ]
  },
  {
   "cell_type": "code",
   "execution_count": 18,
   "id": "be110458-7e23-4d50-a506-c890738a5560",
   "metadata": {},
   "outputs": [
    {
     "data": {
      "text/plain": [
       "<AxesSubplot:>"
      ]
     },
     "execution_count": 18,
     "metadata": {},
     "output_type": "execute_result"
    },
    {
     "data": {
      "image/png": "[encoded data removed]",
      "text/plain": [
       "<Figure size 432x288 with 1 Axes>"
      ]
     },
     "metadata": {
      "needs_background": "light"
     },
     "output_type": "display_data"
    }
   ],
   "source": [
    "# Complaint Type analysis by Descriptor\n",
    "\n",
    "df1['Descriptor'].value_counts()[:10].plot(kind = 'barh')"
   ]
  },
  {
   "cell_type": "code",
   "execution_count": 19,
   "id": "09d274c4-5031-4e02-90d7-b85ea9da24ac",
   "metadata": {},
   "outputs": [],
   "source": [
    "# When we plot the complaints by 'Descriptor', it is clear that\n",
    "#'Blocked Driveway' has highest of 'No Access' complaints followed by 'Posted Parking Sign Violation' and 'Partial Access'. \n",
    "#for noise related complaints, 'Loud Music/Party' has the highest complaints, followed by 'Loud Talking'. "
   ]
  },
  {
   "cell_type": "raw",
   "id": "938c0760-de7d-4e8a-ad8b-72e0a59cf08c",
   "metadata": {},
   "source": [
    "---- next anlysis will be top6 complaint type anlysis\n"
   ]
  },
  {
   "cell_type": "code",
   "execution_count": 20,
   "id": "ab250f04-f57b-483d-a216-93d380b94a7b",
   "metadata": {},
   "outputs": [
    {
     "data": {
      "text/plain": [
       "['MANHATTAN', 'QUEENS', 'BRONX', 'BROOKLYN', 'STATEN ISLAND']"
      ]
     },
     "execution_count": 20,
     "metadata": {},
     "output_type": "execute_result"
    }
   ],
   "source": [
    "df1['Borough'].unique().tolist()"
   ]
  },
  {
   "cell_type": "code",
   "execution_count": 21,
   "id": "a70a156f-e20a-4aa5-8de5-bd5871fee2b8",
   "metadata": {},
   "outputs": [
    {
     "data": {
      "text/html": [
       "<div>\n",
       "<style scoped>\n",
       "    .dataframe tbody tr th:only-of-type {\n",
       "        vertical-align: middle;\n",
       "    }\n",
       "\n",
       "    .dataframe tbody tr th {\n",
       "        vertical-align: top;\n",
       "    }\n",
       "\n",
       "    .dataframe thead th {\n",
       "        text-align: right;\n",
       "    }\n",
       "</style>\n",
       "<table border=\"1\" class=\"dataframe\">\n",
       "  <thead>\n",
       "    <tr style=\"text-align: right;\">\n",
       "      <th>Complaint Type</th>\n",
       "      <th>Blocked Driveway</th>\n",
       "      <th>Illegal Parking</th>\n",
       "      <th>Noise - Street/Sidewalk</th>\n",
       "      <th>Noise - Commercial</th>\n",
       "      <th>Derelict Vehicle</th>\n",
       "      <th>Animal Abuse</th>\n",
       "    </tr>\n",
       "    <tr>\n",
       "      <th>Borough</th>\n",
       "      <th></th>\n",
       "      <th></th>\n",
       "      <th></th>\n",
       "      <th></th>\n",
       "      <th></th>\n",
       "      <th></th>\n",
       "    </tr>\n",
       "  </thead>\n",
       "  <tbody>\n",
       "    <tr>\n",
       "      <th>BRONX</th>\n",
       "      <td>12744</td>\n",
       "      <td>7833</td>\n",
       "      <td>8864</td>\n",
       "      <td>2431</td>\n",
       "      <td>1949</td>\n",
       "      <td>1413</td>\n",
       "    </tr>\n",
       "    <tr>\n",
       "      <th>BROOKLYN</th>\n",
       "      <td>28136</td>\n",
       "      <td>27401</td>\n",
       "      <td>13316</td>\n",
       "      <td>11452</td>\n",
       "      <td>5167</td>\n",
       "      <td>2391</td>\n",
       "    </tr>\n",
       "    <tr>\n",
       "      <th>MANHATTAN</th>\n",
       "      <td>2056</td>\n",
       "      <td>11983</td>\n",
       "      <td>20364</td>\n",
       "      <td>14530</td>\n",
       "      <td>530</td>\n",
       "      <td>1511</td>\n",
       "    </tr>\n",
       "    <tr>\n",
       "      <th>QUEENS</th>\n",
       "      <td>31636</td>\n",
       "      <td>21955</td>\n",
       "      <td>4397</td>\n",
       "      <td>6060</td>\n",
       "      <td>8104</td>\n",
       "      <td>1875</td>\n",
       "    </tr>\n",
       "    <tr>\n",
       "      <th>STATEN ISLAND</th>\n",
       "      <td>2141</td>\n",
       "      <td>4884</td>\n",
       "      <td>815</td>\n",
       "      <td>677</td>\n",
       "      <td>1764</td>\n",
       "      <td>557</td>\n",
       "    </tr>\n",
       "  </tbody>\n",
       "</table>\n",
       "</div>"
      ],
      "text/plain": [
       "Complaint Type  Blocked Driveway  Illegal Parking  Noise - Street/Sidewalk  \\\n",
       "Borough                                                                      \n",
       "BRONX                      12744             7833                     8864   \n",
       "BROOKLYN                   28136            27401                    13316   \n",
       "MANHATTAN                   2056            11983                    20364   \n",
       "QUEENS                     31636            21955                     4397   \n",
       "STATEN ISLAND               2141             4884                      815   \n",
       "\n",
       "Complaint Type  Noise - Commercial  Derelict Vehicle  Animal Abuse  \n",
       "Borough                                                             \n",
       "BRONX                         2431              1949          1413  \n",
       "BROOKLYN                     11452              5167          2391  \n",
       "MANHATTAN                    14530               530          1511  \n",
       "QUEENS                        6060              8104          1875  \n",
       "STATEN ISLAND                  677              1764           557  "
      ]
     },
     "execution_count": 21,
     "metadata": {},
     "output_type": "execute_result"
    }
   ],
   "source": [
    "top6 = ['Blocked Driveway','Illegal Parking','Noise - Street/Sidewalk','Noise - Commercial','Derelict Vehicle','Animal Abuse']\n",
    "complaint_br = df1.groupby(['Borough','Complaint Type']).size().unstack(level =1)\n",
    "complaint_br= complaint_br[top6]\n",
    "complaint_br"
   ]
  },
  {
   "cell_type": "code",
   "execution_count": 22,
   "id": "cec5b29c-a768-4a07-91b4-eb896a224013",
   "metadata": {},
   "outputs": [
    {
     "data": {
      "image/png": "[encoded data removed]",
      "text/plain": [
       "<Figure size 720x720 with 6 Axes>"
      ]
     },
     "metadata": {
      "needs_background": "light"
     },
     "output_type": "display_data"
    }
   ],
   "source": [
    "columns = 2\n",
    "rows = 3\n",
    "fig, axes = plt.subplots(rows,columns, figsize=(10,10))\n",
    "\n",
    "for i, (label,col) in enumerate(complaint_br.iteritems()):\n",
    "    ax = axes[int(i/columns), i%columns]\n",
    "    col = col.sort_values(ascending=True)[:15]\n",
    "    col.plot(kind='barh',color = \"red\", ax=ax)\n",
    "    ax.set_title(label)\n",
    "    \n",
    "plt.tight_layout()"
   ]
  },
  {
   "cell_type": "raw",
   "id": "03229643-0007-45ca-95e8-3e35edb9bd39",
   "metadata": {},
   "source": [
    "Analysis of the above graph\n",
    "--- Manhattan makes to more Noise Complaints\n",
    "--- Queens makes more Blocked Driveway and Derelict Vehicle Complaints\n",
    "--- whereas Brooklyn goes with highest Animal Abuse and Illegeal Parking Complaints"
   ]
  },
  {
   "cell_type": "code",
   "execution_count": 23,
   "id": "67c533b4-7d68-4868-86b0-1567bb31c11a",
   "metadata": {},
   "outputs": [
    {
     "data": {
      "image/png": "[encoded data removed]",
      "text/plain": [
       "<Figure size 864x864 with 6 Axes>"
      ]
     },
     "metadata": {
      "needs_background": "light"
     },
     "output_type": "display_data"
    }
   ],
   "source": [
    "# Visualization of most Complaints per Borough\n",
    "\n",
    "borough_comp = df1.groupby(['Complaint Type','Borough']).size().unstack()\n",
    "\n",
    "columns = 2\n",
    "rows = 3\n",
    "fig, axes = plt.subplots(rows,columns, figsize=(12,12))\n",
    "\n",
    "for i, (label,col) in enumerate(borough_comp.iteritems()):\n",
    "    ax = axes[int(i/columns), i%columns]\n",
    "    col = col.sort_values(ascending=True)[:15]\n",
    "    col.plot(kind='barh',color=\"darkblue\", ax=ax)\n",
    "    ax.set_title(label)\n",
    "    \n",
    "plt.tight_layout()"
   ]
  },
  {
   "cell_type": "raw",
   "id": "59a862e1-e6cd-49d6-9b7b-41c552982610",
   "metadata": {},
   "source": [
    "----- Manhattan has highest number of Noise complaints. \n",
    "-----Parking complaints are highest in Brooklyn, Queens and Staten Island"
   ]
  },
  {
   "cell_type": "code",
   "execution_count": 24,
   "id": "d79f0134-a98b-4f50-9577-1d67e8f937d5",
   "metadata": {},
   "outputs": [
    {
     "data": {
      "text/plain": [
       "<AxesSubplot:>"
      ]
     },
     "execution_count": 24,
     "metadata": {},
     "output_type": "execute_result"
    },
    {
     "data": {
      "image/png": "[encoded data removed]",
      "text/plain": [
       "<Figure size 432x288 with 1 Axes>"
      ]
     },
     "metadata": {
      "needs_background": "light"
     },
     "output_type": "display_data"
    }
   ],
   "source": [
    "df1['Borough'].value_counts().plot(kind = 'bar')"
   ]
  },
  {
   "cell_type": "raw",
   "id": "cd74231a-8a0e-470e-8a00-ce3eb80d5e96",
   "metadata": {},
   "source": [
    "------ Brooklyn has the highest Complaints where as Staten Island being the lowest in the list of Borough"
   ]
  },
  {
   "cell_type": "code",
   "execution_count": 25,
   "id": "f803310b-af6e-4c5f-8486-8ed1b0be104a",
   "metadata": {},
   "outputs": [
    {
     "data": {
      "text/html": [
       "<div>\n",
       "<style scoped>\n",
       "    .dataframe tbody tr th:only-of-type {\n",
       "        vertical-align: middle;\n",
       "    }\n",
       "\n",
       "    .dataframe tbody tr th {\n",
       "        vertical-align: top;\n",
       "    }\n",
       "\n",
       "    .dataframe thead th {\n",
       "        text-align: right;\n",
       "    }\n",
       "</style>\n",
       "<table border=\"1\" class=\"dataframe\">\n",
       "  <thead>\n",
       "    <tr style=\"text-align: right;\">\n",
       "      <th></th>\n",
       "      <th>City</th>\n",
       "    </tr>\n",
       "  </thead>\n",
       "  <tbody>\n",
       "    <tr>\n",
       "      <th>BROOKLYN</th>\n",
       "      <td>96899</td>\n",
       "    </tr>\n",
       "    <tr>\n",
       "      <th>NEW YORK</th>\n",
       "      <td>61947</td>\n",
       "    </tr>\n",
       "    <tr>\n",
       "      <th>BRONX</th>\n",
       "      <td>40230</td>\n",
       "    </tr>\n",
       "    <tr>\n",
       "      <th>STATEN ISLAND</th>\n",
       "      <td>12217</td>\n",
       "    </tr>\n",
       "    <tr>\n",
       "      <th>JAMAICA</th>\n",
       "      <td>7163</td>\n",
       "    </tr>\n",
       "    <tr>\n",
       "      <th>ASTORIA</th>\n",
       "      <td>6254</td>\n",
       "    </tr>\n",
       "  </tbody>\n",
       "</table>\n",
       "</div>"
      ],
      "text/plain": [
       "                City\n",
       "BROOKLYN       96899\n",
       "NEW YORK       61947\n",
       "BRONX          40230\n",
       "STATEN ISLAND  12217\n",
       "JAMAICA         7163\n",
       "ASTORIA         6254"
      ]
     },
     "execution_count": 25,
     "metadata": {},
     "output_type": "execute_result"
    }
   ],
   "source": [
    "citywise_complaints = pd.DataFrame(df1['City'].value_counts()[:6])\n",
    "citywise_complaints"
   ]
  },
  {
   "cell_type": "code",
   "execution_count": 26,
   "id": "67e825df-f333-4724-93d9-2ce4a2f243b9",
   "metadata": {},
   "outputs": [
    {
     "data": {
      "text/plain": [
       "<AxesSubplot:ylabel='Complaint counts'>"
      ]
     },
     "execution_count": 26,
     "metadata": {},
     "output_type": "execute_result"
    },
    {
     "data": {
      "image/png": "[encoded data removed]",
      "text/plain": [
       "<Figure size 432x288 with 1 Axes>"
      ]
     },
     "metadata": {
      "needs_background": "light"
     },
     "output_type": "display_data"
    }
   ],
   "source": [
    "citywise_complaints .plot(ylabel = 'Complaint counts', color= 'orange',kind='bar')"
   ]
  },
  {
   "cell_type": "markdown",
   "id": "66b67d6d-8528-4ba6-a77c-a9468324a720",
   "metadata": {},
   "source": [
    "### TreeMaps Visualization "
   ]
  },
  {
   "cell_type": "code",
   "execution_count": 27,
   "id": "8d856b0b-3233-49d4-b2a7-3c4c20259b38",
   "metadata": {},
   "outputs": [
    {
     "name": "stdout",
     "output_type": "stream",
     "text": [
      "Requirement already satisfied: squarify in c:\\users\\12au\\anaconda3\\lib\\site-packages (0.4.3)\n"
     ]
    }
   ],
   "source": [
    "!pip install squarify"
   ]
  },
  {
   "cell_type": "code",
   "execution_count": 28,
   "id": "90579601-6572-443e-9997-219d75d5f31c",
   "metadata": {},
   "outputs": [],
   "source": [
    "import squarify"
   ]
  },
  {
   "cell_type": "code",
   "execution_count": 32,
   "id": "20de9e2e-a209-4d01-9948-87a160efdcc7",
   "metadata": {},
   "outputs": [
    {
     "data": {
      "image/png": "[encoded data removed]",
      "text/plain": [
       "<Figure size 720x576 with 1 Axes>"
      ]
     },
     "metadata": {
      "needs_background": "light"
     },
     "output_type": "display_data"
    }
   ],
   "source": [
    "fig = plt.gcf()\n",
    "fig.set_size_inches(10, 8)\n",
    "label=zip(list(citywise_complaints.index),citywise_complaints['City'])\n",
    "squarify.plot(sizes=citywise_complaints['City'], label=label, alpha=0.8,pad =True)\n",
    "plt.axis('off')\n",
    "plt.show()"
   ]
  },
  {
   "cell_type": "raw",
   "id": "15392fd7-8ea0-4fab-90fe-0787434f3ac8",
   "metadata": {},
   "source": [
    "----- The above treemap shows that Brooklyn occupies the highest portion in Complaints, followed by New York and Bronx"
   ]
  },
  {
   "cell_type": "markdown",
   "id": "938a3b42-ea21-4143-96d6-32c499e05b50",
   "metadata": {},
   "source": [
    "#### 4.Order the complaint types based on the average ‘Request_Closing_Time’, grouping them for different locations."
   ]
  },
  {
   "cell_type": "code",
   "execution_count": 33,
   "id": "0b57c190-c8a0-4e14-b5bc-7db73d61e73b",
   "metadata": {},
   "outputs": [
    {
     "data": {
      "text/plain": [
       "count                       291221\n",
       "mean     0 days 04:18:32.055717135\n",
       "std      0 days 06:03:43.097297834\n",
       "min                0 days 00:01:00\n",
       "25%                0 days 01:16:31\n",
       "50%                0 days 02:42:40\n",
       "75%                0 days 05:20:24\n",
       "max               24 days 16:52:22\n",
       "Name: Request Closing Time, dtype: object"
      ]
     },
     "execution_count": 33,
     "metadata": {},
     "output_type": "execute_result"
    }
   ],
   "source": [
    "df1['Request Closing Time'].describe()"
   ]
  },
  {
   "cell_type": "code",
   "execution_count": 34,
   "id": "9637bced-1c6c-49ce-a676-d18cf7d0109d",
   "metadata": {},
   "outputs": [
    {
     "data": {
      "text/html": [
       "<div>\n",
       "<style scoped>\n",
       "    .dataframe tbody tr th:only-of-type {\n",
       "        vertical-align: middle;\n",
       "    }\n",
       "\n",
       "    .dataframe tbody tr th {\n",
       "        vertical-align: top;\n",
       "    }\n",
       "\n",
       "    .dataframe thead th {\n",
       "        text-align: right;\n",
       "    }\n",
       "</style>\n",
       "<table border=\"1\" class=\"dataframe\">\n",
       "  <thead>\n",
       "    <tr style=\"text-align: right;\">\n",
       "      <th></th>\n",
       "      <th>Request Closing Time</th>\n",
       "      <th>Request_Closing_Hours</th>\n",
       "    </tr>\n",
       "  </thead>\n",
       "  <tbody>\n",
       "    <tr>\n",
       "      <th>0</th>\n",
       "      <td>0 days 00:55:15</td>\n",
       "      <td>1.0</td>\n",
       "    </tr>\n",
       "    <tr>\n",
       "      <th>1</th>\n",
       "      <td>0 days 01:26:16</td>\n",
       "      <td>2.0</td>\n",
       "    </tr>\n",
       "    <tr>\n",
       "      <th>2</th>\n",
       "      <td>0 days 04:51:31</td>\n",
       "      <td>5.0</td>\n",
       "    </tr>\n",
       "    <tr>\n",
       "      <th>3</th>\n",
       "      <td>0 days 07:45:14</td>\n",
       "      <td>8.0</td>\n",
       "    </tr>\n",
       "    <tr>\n",
       "      <th>4</th>\n",
       "      <td>0 days 03:27:02</td>\n",
       "      <td>4.0</td>\n",
       "    </tr>\n",
       "  </tbody>\n",
       "</table>\n",
       "</div>"
      ],
      "text/plain": [
       "  Request Closing Time  Request_Closing_Hours\n",
       "0      0 days 00:55:15                    1.0\n",
       "1      0 days 01:26:16                    2.0\n",
       "2      0 days 04:51:31                    5.0\n",
       "3      0 days 07:45:14                    8.0\n",
       "4      0 days 03:27:02                    4.0"
      ]
     },
     "execution_count": 34,
     "metadata": {},
     "output_type": "execute_result"
    }
   ],
   "source": [
    "df1['Request_Closing_Hours'] = df1['Request Closing Time'].astype('timedelta64[h]')+1\n",
    "df1[['Request Closing Time','Request_Closing_Hours']].head()"
   ]
  },
  {
   "cell_type": "code",
   "execution_count": 35,
   "id": "96d199de-fe0f-4c10-91bc-d85670b51fbe",
   "metadata": {},
   "outputs": [
    {
     "name": "stdout",
     "output_type": "stream",
     "text": [
      "Mean:  4.81866348924013\n",
      "Std:  6.063755652658765\n"
     ]
    }
   ],
   "source": [
    "mean = df1['Request_Closing_Hours'].mean()\n",
    "std = df1['Request_Closing_Hours'].std()\n",
    "\n",
    "print('Mean: ',mean)\n",
    "print('Std: ',std)"
   ]
  },
  {
   "cell_type": "code",
   "execution_count": 36,
   "id": "515f8d39-7a45-4204-b970-df2df0b3de4a",
   "metadata": {},
   "outputs": [
    {
     "data": {
      "text/plain": [
       "12167     224.0\n",
       "12168     224.0\n",
       "21268     520.0\n",
       "23664     578.0\n",
       "244488    593.0\n",
       "Name: Request_Closing_Hours, dtype: float64"
      ]
     },
     "execution_count": 36,
     "metadata": {},
     "output_type": "execute_result"
    }
   ],
   "source": [
    "df1['Request_Closing_Hours'].sort_values().tail()"
   ]
  },
  {
   "cell_type": "raw",
   "id": "1d48dd85-9ded-4d7b-a42c-de29faf79d0f",
   "metadata": {},
   "source": [
    "------The closing complaint performance Boroughwise"
   ]
  },
  {
   "cell_type": "code",
   "execution_count": 37,
   "id": "87bf02b7-fb37-47d2-9839-72786e534ddf",
   "metadata": {},
   "outputs": [
    {
     "data": {
      "image/png": "[encoded data removed]",
      "text/plain": [
       "<Figure size 864x864 with 6 Axes>"
      ]
     },
     "metadata": {
      "needs_background": "light"
     },
     "output_type": "display_data"
    }
   ],
   "source": [
    "citywise_resolution = df1.groupby(['Complaint Type','Borough'])[['Request_Closing_Hours']].mean().unstack()\n",
    "\n",
    "columns = 2\n",
    "rows = 3\n",
    "fig, axes = plt.subplots(rows, columns, figsize=(12,12))\n",
    "\n",
    "for i, (label,col) in enumerate(citywise_resolution.iteritems()):\n",
    "    ax = axes[int(i/columns), i%columns]\n",
    "    col = col.sort_values(ascending=True)[:15]\n",
    "    col.plot(kind='barh', ax=ax)\n",
    "    ax.set_title(label)\n",
    "    \n",
    "plt.tight_layout()\n"
   ]
  },
  {
   "cell_type": "raw",
   "id": "ffe54833-4fb8-4295-a026-09afe140d435",
   "metadata": {},
   "source": [
    "---- from the above analysis it is clear that the 'Graffiti' complaints are taking more time to close.\n"
   ]
  },
  {
   "cell_type": "markdown",
   "id": "91b78b84-dfe1-4381-b17c-6ce0ca5eeb6d",
   "metadata": {},
   "source": [
    "## Hypothesis Testing"
   ]
  },
  {
   "cell_type": "markdown",
   "id": "bf0e02ee-b246-49eb-952f-4d4657d3811f",
   "metadata": {},
   "source": [
    "#### 1. Whether the average response time across complaint types is similar or not (overall)"
   ]
  },
  {
   "cell_type": "code",
   "execution_count": 38,
   "id": "6ec9471d-4b2c-4b63-a868-937f3f5850a9",
   "metadata": {},
   "outputs": [
    {
     "data": {
      "text/plain": [
       "<AxesSubplot:>"
      ]
     },
     "execution_count": 38,
     "metadata": {},
     "output_type": "execute_result"
    },
    {
     "data": {
      "image/png": "[encoded data removed]",
      "text/plain": [
       "<Figure size 432x288 with 1 Axes>"
      ]
     },
     "metadata": {
      "needs_background": "light"
     },
     "output_type": "display_data"
    }
   ],
   "source": [
    "# convert our hourly timedelta into minuted\n",
    "df1['Request_Closing_Minutes'] = df1['Request Closing Time'].astype('timedelta64[m]')+1\n",
    "\n",
    "#\n",
    "df_new = df1[df1['Complaint Type']=='Noise - Street/Sidewalk']['Request_Closing_Minutes']\n",
    "df_new.hist(bins=100,range=(0,1800))"
   ]
  },
  {
   "cell_type": "code",
   "execution_count": 39,
   "id": "fc081ab2-6071-46dc-8523-27ff8cad5722",
   "metadata": {},
   "outputs": [],
   "source": [
    "# data contains too many outliers , hence we will transform the data using log transformation"
   ]
  },
  {
   "cell_type": "code",
   "execution_count": 40,
   "id": "23f0eba0-f4f4-4eaf-a3b2-022a6bf1fee1",
   "metadata": {},
   "outputs": [
    {
     "data": {
      "text/plain": [
       "count    47756.000000\n",
       "mean       207.227343\n",
       "std        327.155232\n",
       "min          3.000000\n",
       "25%         61.000000\n",
       "50%        133.000000\n",
       "75%        259.000000\n",
       "max      35573.000000\n",
       "Name: Request_Closing_Minutes, dtype: float64"
      ]
     },
     "execution_count": 40,
     "metadata": {},
     "output_type": "execute_result"
    }
   ],
   "source": [
    "df_new.describe()"
   ]
  },
  {
   "cell_type": "code",
   "execution_count": 41,
   "id": "eb8368a2-0fc0-4228-a418-0a89ef87d016",
   "metadata": {},
   "outputs": [],
   "source": [
    "data = {}\n",
    "for complaint in df1['Complaint Type'].unique():\n",
    "    data[complaint] = np.log(df1[df1['Complaint Type']==complaint]['Request_Closing_Minutes'])"
   ]
  },
  {
   "cell_type": "code",
   "execution_count": 42,
   "id": "5ddb282e-8e81-490c-969b-9e3bb680b063",
   "metadata": {},
   "outputs": [
    {
     "data": {
      "text/plain": [
       "dict_keys(['Noise - Street/Sidewalk', 'Blocked Driveway', 'Illegal Parking', 'Derelict Vehicle', 'Noise - Commercial', 'Noise - House of Worship', 'Posting Advertisement', 'Noise - Vehicle', 'Animal Abuse', 'Vending', 'Traffic', 'Drinking', 'Noise - Park', 'Graffiti', 'Disorderly Youth'])"
      ]
     },
     "execution_count": 42,
     "metadata": {},
     "output_type": "execute_result"
    }
   ],
   "source": [
    "data.keys()"
   ]
  },
  {
   "cell_type": "code",
   "execution_count": 43,
   "id": "1bd5be82-6da0-4202-a8a4-9d5b229eb943",
   "metadata": {},
   "outputs": [
    {
     "data": {
      "text/plain": [
       "<AxesSubplot:>"
      ]
     },
     "execution_count": 43,
     "metadata": {},
     "output_type": "execute_result"
    },
    {
     "data": {
      "image/png": "[encoded data removed]",
      "text/plain": [
       "<Figure size 432x288 with 1 Axes>"
      ]
     },
     "metadata": {
      "needs_background": "light"
     },
     "output_type": "display_data"
    }
   ],
   "source": [
    "data['Noise - Street/Sidewalk'].hist(bins=100)"
   ]
  },
  {
   "cell_type": "raw",
   "id": "f7e24d31-dd6d-4348-be96-3bb7d7ab4453",
   "metadata": {},
   "source": [
    "---- Above distribution plot shows that once we apply log Transformation to our data, skewness is almost removed and it looks more like a normal distribution."
   ]
  },
  {
   "cell_type": "code",
   "execution_count": 44,
   "id": "f99efb0b-7db4-4e50-b97e-877bdd6b9dd5",
   "metadata": {},
   "outputs": [
    {
     "data": {
      "text/plain": [
       "<AxesSubplot:>"
      ]
     },
     "execution_count": 44,
     "metadata": {},
     "output_type": "execute_result"
    },
    {
     "data": {
      "image/png": "[encoded data removed]",
      "text/plain": [
       "<Figure size 432x288 with 1 Axes>"
      ]
     },
     "metadata": {
      "needs_background": "light"
     },
     "output_type": "display_data"
    }
   ],
   "source": [
    "data['Noise - Street/Sidewalk'].plot(kind='box')"
   ]
  },
  {
   "cell_type": "code",
   "execution_count": 45,
   "id": "b36cdde7-56d5-4c45-89e4-190845760489",
   "metadata": {},
   "outputs": [
    {
     "name": "stdout",
     "output_type": "stream",
     "text": [
      "1.0883037786984964\n",
      "0.9689120300907598\n",
      "1.0671606963822484\n",
      "1.247240997999812\n",
      "1.0740444730703482\n",
      "1.1589202042209954\n",
      "1.1940496830014724\n",
      "1.0641661804784535\n",
      "1.0359263541925006\n",
      "1.0994603809267023\n",
      "1.169898901097505\n",
      "1.0358383203301404\n",
      "1.1063059267654607\n",
      "1.0581967861803852\n",
      "1.026822302225286\n"
     ]
    }
   ],
   "source": [
    "for complaints in data.keys():\n",
    "    print(data[complaints].std())"
   ]
  },
  {
   "cell_type": "raw",
   "id": "0f8b6a27-629d-4092-98ad-e98d4c8df9d2",
   "metadata": {},
   "source": [
    "# Below conditions should be met before conducting ANOVA.\n",
    "1. All distributions must follow a normal distributions curve. We have verified this after the log transformation\n",
    "2. Standard deviation for all groups must be same. Above output proves that this is true.\n",
    "3. All samples are drawn independently of each other."
   ]
  },
  {
   "cell_type": "code",
   "execution_count": 46,
   "id": "3a52688e-9c93-4775-b3d2-eb1deafd1719",
   "metadata": {},
   "outputs": [
    {
     "data": {
      "text/plain": [
       "['Noise - Street/Sidewalk',\n",
       " 'Blocked Driveway',\n",
       " 'Illegal Parking',\n",
       " 'Derelict Vehicle',\n",
       " 'Noise - Commercial',\n",
       " 'Noise - House of Worship',\n",
       " 'Posting Advertisement',\n",
       " 'Noise - Vehicle',\n",
       " 'Animal Abuse',\n",
       " 'Vending',\n",
       " 'Traffic',\n",
       " 'Drinking',\n",
       " 'Noise - Park',\n",
       " 'Graffiti',\n",
       " 'Disorderly Youth']"
      ]
     },
     "execution_count": 46,
     "metadata": {},
     "output_type": "execute_result"
    }
   ],
   "source": [
    "[ complaint for complaint in data.keys() ]"
   ]
  },
  {
   "cell_type": "raw",
   "id": "828945b3-4f6f-44dd-a6a5-aa09850b8add",
   "metadata": {},
   "source": [
    "Null Hypothesis: Average response time for all the complaints type is same.\n",
    "\n",
    "Alternate Hypothesis: Average response time for all the complaints type is not same and theres is some difference among the groups.\n",
    "\n",
    "Below We conduct ANOVA test for top 5 type of complaints\n",
    "\n",
    "For a 95% of confidence interval we choose our alpha as 0.05 for 5%\n",
    "\n",
    "Alpha(0.05) is the critical p-value, if our calculated p-value is less than alpha, it will give us strong evidence to reject Null Hypothesis.\n",
    "\n",
    "if p < alpha(0.05) : Reject Null Hypothesis, Average response time for all the complaints type is not same.\n",
    "\n",
    "if p > alpha(0.05) : Fail to reject Null Hypothesis, Average response time for all the complaints type is same."
   ]
  },
  {
   "cell_type": "code",
   "execution_count": 47,
   "id": "e0927f94-51ed-44b5-b343-ef44b96d211e",
   "metadata": {},
   "outputs": [
    {
     "name": "stdout",
     "output_type": "stream",
     "text": [
      "Statistics=2456.370, p=0.000\n",
      "Different distributions (reject H0)\n"
     ]
    }
   ],
   "source": [
    "# import f_oneway from scipy.stats library\n",
    "from scipy.stats import f_oneway\n",
    "\n",
    "stat, p = f_oneway(data['Noise - Street/Sidewalk'],data['Blocked Driveway'],data['Illegal Parking'],data['Derelict Vehicle'],\n",
    "                   data['Noise - Commercial'])\n",
    "print('Statistics=%.3f, p=%.3f' % (stat, p))\n",
    "# interpret\n",
    "alpha = 0.05\n",
    "if p > alpha:\n",
    "    print('Same distributions (fail to reject H0)')\n",
    "else:\n",
    "    print('Different distributions (reject H0)')"
   ]
  },
  {
   "cell_type": "markdown",
   "id": "4ffdbb36-1099-47a5-81eb-1ddab8145ea6",
   "metadata": {},
   "source": [
    "As our p-value is quite low , hence it is being converted to 0.0\n",
    "\n",
    "Since our p-value is lower than our critical p-value, we will conclude that we have enough evidence to reject our Null Hypothesis and that\n",
    "\n",
    "Average response time for all the complaints type is not same.\n",
    "\n",
    "#### 2. Are the type of complaint or service requested and location related?\n",
    "To find the correlation between location and complaint types, we will consider below columns\n",
    "--- Complaint Type\n",
    "--- Borough\n",
    "--- City\n",
    "--- Longitude\n",
    "--- Latitude"
   ]
  },
  {
   "cell_type": "code",
   "execution_count": 48,
   "id": "c25963cb-d747-452f-ae22-1b9e2ac5c1ec",
   "metadata": {},
   "outputs": [],
   "source": [
    "sample = df1[['Complaint Type','Borough','Longitude','Latitude','City']]"
   ]
  },
  {
   "cell_type": "code",
   "execution_count": 49,
   "id": "b928ab8b-68bf-4c0c-a798-dd455f9d1fbe",
   "metadata": {},
   "outputs": [
    {
     "name": "stdout",
     "output_type": "stream",
     "text": [
      "<class 'pandas.core.frame.DataFrame'>\n",
      "Int64Index: 291221 entries, 0 to 300697\n",
      "Data columns (total 5 columns):\n",
      " #   Column          Non-Null Count   Dtype   \n",
      "---  ------          --------------   -----   \n",
      " 0   Complaint Type  291221 non-null  category\n",
      " 1   Borough         291221 non-null  category\n",
      " 2   Longitude       291221 non-null  float64 \n",
      " 3   Latitude        291221 non-null  float64 \n",
      " 4   City            291221 non-null  category\n",
      "dtypes: category(3), float64(2)\n",
      "memory usage: 7.5 MB\n"
     ]
    }
   ],
   "source": [
    "sample.info()"
   ]
  },
  {
   "cell_type": "code",
   "execution_count": 50,
   "id": "d8330df6-28ab-41e9-a7a2-d6e4c3c637ea",
   "metadata": {},
   "outputs": [
    {
     "name": "stderr",
     "output_type": "stream",
     "text": [
      "<ipython-input-50-8438f6c54069>:2: SettingWithCopyWarning: \n",
      "A value is trying to be set on a copy of a slice from a DataFrame.\n",
      "Try using .loc[row_indexer,col_indexer] = value instead\n",
      "\n",
      "See the caveats in the documentation: https://pandas.pydata.org/pandas-docs/stable/user_guide/indexing.html#returning-a-view-versus-a-copy\n",
      "  sample['Complaint Type'] = sample['Complaint Type'].cat.codes\n",
      "<ipython-input-50-8438f6c54069>:3: SettingWithCopyWarning: \n",
      "A value is trying to be set on a copy of a slice from a DataFrame.\n",
      "Try using .loc[row_indexer,col_indexer] = value instead\n",
      "\n",
      "See the caveats in the documentation: https://pandas.pydata.org/pandas-docs/stable/user_guide/indexing.html#returning-a-view-versus-a-copy\n",
      "  sample['Borough'] = sample['Borough'].cat.codes\n",
      "<ipython-input-50-8438f6c54069>:4: SettingWithCopyWarning: \n",
      "A value is trying to be set on a copy of a slice from a DataFrame.\n",
      "Try using .loc[row_indexer,col_indexer] = value instead\n",
      "\n",
      "See the caveats in the documentation: https://pandas.pydata.org/pandas-docs/stable/user_guide/indexing.html#returning-a-view-versus-a-copy\n",
      "  sample['City'] = sample['City'].cat.codes\n"
     ]
    }
   ],
   "source": [
    "# converting Categorical data to numeric values\n",
    "sample['Complaint Type'] = sample['Complaint Type'].cat.codes\n",
    "sample['Borough'] = sample['Borough'].cat.codes\n",
    "sample['City'] = sample['City'].cat.codes"
   ]
  },
  {
   "cell_type": "code",
   "execution_count": 51,
   "id": "fd434e27-9877-4d0b-866f-360ba3ba5aba",
   "metadata": {},
   "outputs": [
    {
     "name": "stdout",
     "output_type": "stream",
     "text": [
      "<class 'pandas.core.frame.DataFrame'>\n",
      "Int64Index: 291221 entries, 0 to 300697\n",
      "Data columns (total 5 columns):\n",
      " #   Column          Non-Null Count   Dtype  \n",
      "---  ------          --------------   -----  \n",
      " 0   Complaint Type  291221 non-null  int8   \n",
      " 1   Borough         291221 non-null  int8   \n",
      " 2   Longitude       291221 non-null  float64\n",
      " 3   Latitude        291221 non-null  float64\n",
      " 4   City            291221 non-null  int8   \n",
      "dtypes: float64(2), int8(3)\n",
      "memory usage: 7.5 MB\n"
     ]
    }
   ],
   "source": [
    "sample.info()"
   ]
  },
  {
   "cell_type": "code",
   "execution_count": 52,
   "id": "59f297d4-50b1-403c-b60f-6bb6147e61b4",
   "metadata": {},
   "outputs": [
    {
     "data": {
      "text/html": [
       "<div>\n",
       "<style scoped>\n",
       "    .dataframe tbody tr th:only-of-type {\n",
       "        vertical-align: middle;\n",
       "    }\n",
       "\n",
       "    .dataframe tbody tr th {\n",
       "        vertical-align: top;\n",
       "    }\n",
       "\n",
       "    .dataframe thead th {\n",
       "        text-align: right;\n",
       "    }\n",
       "</style>\n",
       "<table border=\"1\" class=\"dataframe\">\n",
       "  <thead>\n",
       "    <tr style=\"text-align: right;\">\n",
       "      <th></th>\n",
       "      <th>Complaint Type</th>\n",
       "      <th>Borough</th>\n",
       "      <th>Longitude</th>\n",
       "      <th>Latitude</th>\n",
       "      <th>City</th>\n",
       "    </tr>\n",
       "  </thead>\n",
       "  <tbody>\n",
       "    <tr>\n",
       "      <th>0</th>\n",
       "      <td>10</td>\n",
       "      <td>2</td>\n",
       "      <td>-73.923501</td>\n",
       "      <td>40.865682</td>\n",
       "      <td>33</td>\n",
       "    </tr>\n",
       "    <tr>\n",
       "      <th>1</th>\n",
       "      <td>1</td>\n",
       "      <td>3</td>\n",
       "      <td>-73.915094</td>\n",
       "      <td>40.775945</td>\n",
       "      <td>1</td>\n",
       "    </tr>\n",
       "    <tr>\n",
       "      <th>2</th>\n",
       "      <td>1</td>\n",
       "      <td>0</td>\n",
       "      <td>-73.888525</td>\n",
       "      <td>40.870325</td>\n",
       "      <td>6</td>\n",
       "    </tr>\n",
       "    <tr>\n",
       "      <th>3</th>\n",
       "      <td>6</td>\n",
       "      <td>0</td>\n",
       "      <td>-73.828379</td>\n",
       "      <td>40.835994</td>\n",
       "      <td>6</td>\n",
       "    </tr>\n",
       "    <tr>\n",
       "      <th>4</th>\n",
       "      <td>6</td>\n",
       "      <td>3</td>\n",
       "      <td>-73.874170</td>\n",
       "      <td>40.733060</td>\n",
       "      <td>13</td>\n",
       "    </tr>\n",
       "  </tbody>\n",
       "</table>\n",
       "</div>"
      ],
      "text/plain": [
       "   Complaint Type  Borough  Longitude   Latitude  City\n",
       "0              10        2 -73.923501  40.865682    33\n",
       "1               1        3 -73.915094  40.775945     1\n",
       "2               1        0 -73.888525  40.870325     6\n",
       "3               6        0 -73.828379  40.835994     6\n",
       "4               6        3 -73.874170  40.733060    13"
      ]
     },
     "execution_count": 52,
     "metadata": {},
     "output_type": "execute_result"
    }
   ],
   "source": [
    "sample.head()"
   ]
  },
  {
   "cell_type": "code",
   "execution_count": 53,
   "id": "26d9fbf6-bc19-4f39-9e99-4c1c89595b08",
   "metadata": {},
   "outputs": [
    {
     "data": {
      "text/html": [
       "<div>\n",
       "<style scoped>\n",
       "    .dataframe tbody tr th:only-of-type {\n",
       "        vertical-align: middle;\n",
       "    }\n",
       "\n",
       "    .dataframe tbody tr th {\n",
       "        vertical-align: top;\n",
       "    }\n",
       "\n",
       "    .dataframe thead th {\n",
       "        text-align: right;\n",
       "    }\n",
       "</style>\n",
       "<table border=\"1\" class=\"dataframe\">\n",
       "  <thead>\n",
       "    <tr style=\"text-align: right;\">\n",
       "      <th></th>\n",
       "      <th>Complaint Type</th>\n",
       "      <th>Borough</th>\n",
       "      <th>Longitude</th>\n",
       "      <th>Latitude</th>\n",
       "      <th>City</th>\n",
       "    </tr>\n",
       "  </thead>\n",
       "  <tbody>\n",
       "    <tr>\n",
       "      <th>Complaint Type</th>\n",
       "      <td>1.000000</td>\n",
       "      <td>-0.076788</td>\n",
       "      <td>-0.181756</td>\n",
       "      <td>0.170173</td>\n",
       "      <td>0.094515</td>\n",
       "    </tr>\n",
       "    <tr>\n",
       "      <th>Borough</th>\n",
       "      <td>-0.076788</td>\n",
       "      <td>1.000000</td>\n",
       "      <td>0.022161</td>\n",
       "      <td>-0.250863</td>\n",
       "      <td>0.718825</td>\n",
       "    </tr>\n",
       "    <tr>\n",
       "      <th>Longitude</th>\n",
       "      <td>-0.181756</td>\n",
       "      <td>0.022161</td>\n",
       "      <td>1.000000</td>\n",
       "      <td>0.368849</td>\n",
       "      <td>-0.119110</td>\n",
       "    </tr>\n",
       "    <tr>\n",
       "      <th>Latitude</th>\n",
       "      <td>0.170173</td>\n",
       "      <td>-0.250863</td>\n",
       "      <td>0.368849</td>\n",
       "      <td>1.000000</td>\n",
       "      <td>-0.004037</td>\n",
       "    </tr>\n",
       "    <tr>\n",
       "      <th>City</th>\n",
       "      <td>0.094515</td>\n",
       "      <td>0.718825</td>\n",
       "      <td>-0.119110</td>\n",
       "      <td>-0.004037</td>\n",
       "      <td>1.000000</td>\n",
       "    </tr>\n",
       "  </tbody>\n",
       "</table>\n",
       "</div>"
      ],
      "text/plain": [
       "                Complaint Type   Borough  Longitude  Latitude      City\n",
       "Complaint Type        1.000000 -0.076788  -0.181756  0.170173  0.094515\n",
       "Borough              -0.076788  1.000000   0.022161 -0.250863  0.718825\n",
       "Longitude            -0.181756  0.022161   1.000000  0.368849 -0.119110\n",
       "Latitude              0.170173 -0.250863   0.368849  1.000000 -0.004037\n",
       "City                  0.094515  0.718825  -0.119110 -0.004037  1.000000"
      ]
     },
     "execution_count": 53,
     "metadata": {},
     "output_type": "execute_result"
    }
   ],
   "source": [
    "sample.corr(method='pearson')"
   ]
  },
  {
   "cell_type": "raw",
   "id": "ca0519e5-171c-4808-b08d-c4c44d4c0b73",
   "metadata": {},
   "source": [
    "----- there is no relationship between complaint type and location."
   ]
  },
  {
   "cell_type": "code",
   "execution_count": null,
   "id": "16b7b9e5-b439-4803-9f08-dbc63dfc0fd0",
   "metadata": {},
   "outputs": [],
   "source": []
  },
  {
   "cell_type": "code",
   "execution_count": null,
   "id": "218e77d0-f19e-4896-9203-8beb7daaef21",
   "metadata": {},
   "outputs": [],
   "source": []
  }
 ],
 "metadata": {
  "kernelspec": {
   "display_name": "Python 3",
   "language": "python",
   "name": "python3"
  },
  "language_info": {
   "codemirror_mode": {
    "name": "ipython",
    "version": 3
   },
   "file_extension": ".py",
   "mimetype": "text/x-python",
   "name": "python",
   "nbconvert_exporter": "python",
   "pygments_lexer": "ipython3",
   "version": "3.8.8"
  }
 },
 "nbformat": 4,
 "nbformat_minor": 5
}
